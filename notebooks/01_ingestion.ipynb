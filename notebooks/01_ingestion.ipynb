{
 "cells": [
  {
   "cell_type": "markdown",
   "id": "6c46ff74-e040-4d72-81e6-b2d9c4bfdf02",
   "metadata": {},
   "source": [
    "# Ingestion Step (Etapa da Ingestão)\n",
    "## Table of Contents\n",
    "* [Packages](#1)\n",
    "* [Ingestion Utils Functions](#2)\n",
    "    * [Request Authorization](#2.1)\n",
    "    * [Playlist Extraction](#2.2)\n",
    "    * [Track Features Extraction](#2.3)\n",
    "    * [Playlist to DataFrame](#2.4)\n",
    "* [Environment Variables](#3)\n",
    "* [Data Extraction](#4)\n",
    "    * [Request Authorization](#4.1)\n",
    "    * [Playlists Definition](#4.2)\n",
    "    * [Data Extraction and Preparation](#4.3)"
   ]
  },
  {
   "cell_type": "markdown",
   "id": "8922913e-94bf-4e79-acb3-f9fd6d76ca80",
   "metadata": {
    "tags": []
   },
   "source": [
    "<a class=\"anchor\" id=\"1\"></a>\n",
    "## Packages (Pacotes)\n",
    "**[EN-US]**\n",
    "\n",
    "Packages used in the system.\n",
    "* [os](https://docs.python.org/3/library/os.html): built-in module, provides a portable way of using operating system dependent functionality;\n",
    "* [requests](https://pypi.org/project/requests/): is a simple HTTP library, for making HTTP requests;\n",
    "* [base64](https://docs.python.org/pt-br/3.7/library/base64.html): provides functions for encoding binary data to printable ASCII characters and decoding such encodings back to binary data;\n",
    "* [dotenv](https://pypi.org/project/python-dotenv/): reads key-value pairs from a .env file and can set them as environment variables;\n",
    "* [pandas](https://pandas.pydata.org/): is the main package for data manipulation;\n",
    "* [numpy](www.numpy.org): is the main package for scientific computing.\n",
    "\n",
    "**[PT-BR]**\n",
    "\n",
    "Pacotes utilizados no sistema.\n",
    "* [os](https://docs.python.org/3/library/os.html): módulo integrado, fornece uma maneira portátil de usar funcionalidades dependentes do sistema operacional;\n",
    "* [requests](https://pypi.org/project/requests/): é uma biblioteca HTTP simples, para fazer solicitações HTTP;\n",
    "* [base64](https://docs.python.org/pt-br/3.7/library/base64.html): fornece funções para codificar dados binários em caracteres ASCII imprimíveis e decodificar essas codificações de volta para dados binários;\n",
    "* [dotenv](https://pypi.org/project/python-dotenv/): lê pares de chave-valor de um arquivo .env e pode defini-los como variáveis de ambiente;\n",
    "* [pandas](https://pandas.pydata.org/): é o principal pacote para manipulação de dados;\n",
    "* [numpy](www.numpy.org): é o principal pacote para computação científica."
   ]
  },
  {
   "cell_type": "code",
   "execution_count": 21,
   "id": "d180a5ba-3e9c-4c1f-958b-fdf41c7f9725",
   "metadata": {
    "tags": []
   },
   "outputs": [],
   "source": [
    "import os\n",
    "from requests import post, get\n",
    "from base64 import b64encode\n",
    "from dotenv import load_dotenv\n",
    "load_dotenv() # access environment variables (acessa as variáveis de ambiente)\n",
    "\n",
    "import pandas as pd\n",
    "import numpy as np"
   ]
  },
  {
   "cell_type": "markdown",
   "id": "5083898a-e978-40eb-b0b4-02576fe11188",
   "metadata": {
    "tags": []
   },
   "source": [
    "<a name=\"2\"></a>\n",
    "## Ingestion Utility Functions (Funções Utilitárias de Ingestão)\n",
    "<img align='center' src='../figures/auth-client-credentials.png' style='width:800px;'>\n",
    "\n",
    "**[EN-US]**\n",
    "\n",
    "Utility functions for ingestion. `request_auth` function to request authorization from Spotify, `get_playlist` function to extract the tracks from a playlist and the `track_features` function to extract the features of these tracks. After that, the `playlist_to_dataframe` function transforms the data in JSON to a pandas DataFrame.\n",
    "\n",
    "**[PT-BR]**\n",
    "\n",
    "Funções utilitárias para a ingestão. Função `request_auth` para requisitar a autorização ao spotify, função `get_playlist` para extrair as tracks de uma playlist e a função `track_features` para extrair as features dessas tracks. Após isso, a função `playlist_to_dataframe` transforma os dados em JSON para um DataFrame pandas."
   ]
  },
  {
   "cell_type": "markdown",
   "id": "7bae33d8-72e4-47f9-80a8-ac93675ad142",
   "metadata": {},
   "source": [
    "<a name=\"2.1\"></a>\n",
    "### Request Authorization (Requisita a Autorização)\n",
    "**[EN-US]**\n",
    "\n",
    "The first step is to send a POST request to the `/api/token` endpoint of the Spotify OAuth 2.0 Service. If everything goes well, you'll receive a response with a 200 OK status and the JSON data.\n",
    "\n",
    "**[PT-BR]**\n",
    "\n",
    "A primeira etapa é enviar uma requisição POST para o endpoint `/api/token` do serviço Spotify OAuth 2.0. Se tudo correr bem, você receberá uma resposta com o status 200 OK e os dados JSON."
   ]
  },
  {
   "cell_type": "code",
   "execution_count": 285,
   "id": "37e46e72-fbdb-46e9-9a88-b56b9f7bb767",
   "metadata": {
    "tags": []
   },
   "outputs": [],
   "source": [
    "def request_auth(client_id, client_secret):\n",
    "    \"\"\"\n",
    "    [EN-US]\n",
    "    The first step is to send a POST request to the /api/token endpoint of the Spotify OAuth 2.0 Service.\n",
    "    If everything goes well, you'll receive a response with a 200 OK status and the JSON data.\n",
    "    \n",
    "    [PT-BR]\n",
    "    A primeira etapa é enviar uma requisição POST para o endpoint /api/token do serviço Spotify OAuth 2.0.\n",
    "    Se tudo correr bem, você receberá uma resposta com o status 200 OK e os dados JSON.\n",
    "    \n",
    "    Arguments:\n",
    "        client_id -- The client ID generated after registering your application\n",
    "                     (O cliente ID gerado após registrar seu aplicativo).\n",
    "        client_secret -- the client secret generated after registering your application\n",
    "                         (O client secret gerado após o registro do seu aplicativo).\n",
    "        \n",
    "    Returns:\n",
    "        access_token -- An access token that can be provided in subsequent calls, for example to Spotify Web API services\n",
    "                        (Um token de acesso que pode ser fornecido em chamadas subsequentes, por exemplo, para serviços Spotify Web API).\n",
    "        token_type -- How the access token may be used: always \"Bearer\"\n",
    "                      (Como o token de acesso pode ser utilizado: sempre “Bearer”).\n",
    "        token_expires -- The time period (in seconds) for which the access token is valid\n",
    "                         (O período de tempo (em segundos) durante o qual o token de acesso é válido).\n",
    "    \"\"\"\n",
    "    # Base 64 encoded string that contains the client ID and client secret key (String codificada em base 64 que contém o clinet ID e a client secret key)\n",
    "    b64_encoded = b64encode(f'{client_id}:{client_secret}'.encode())\n",
    "    auth_b64 = str(b64_encoded, 'utf-8')\n",
    "    # Setting options for authorization (Definindo as opções para a autorização)\n",
    "    base_url = 'https://accounts.spotify.com/api/token'    \n",
    "    \n",
    "    auth_options = {\n",
    "        'url': base_url,\n",
    "        'headers':{\n",
    "            'Authorization': 'Basic ' + auth_b64,\n",
    "            'content-type': 'application/x-www-form-urlencoded'\n",
    "        },\n",
    "        'form':{\n",
    "            'grant_type': 'client_credentials'\n",
    "        },\n",
    "        'json': True\n",
    "    }\n",
    "\n",
    "    # Send a post request (Enviando a requisição post)\n",
    "    request = post(url=auth_options['url'], headers=auth_options['headers'], data=auth_options['form'])\n",
    "    # If the request status code is 200 (Caso o status code da requisição for 200)\n",
    "    if request.status_code == 200:\n",
    "        json_request = request.json()\n",
    "        access_token = json_request['access_token']\n",
    "        token_type = json_request['token_type']\n",
    "        token_expires = json_request['expires_in']\n",
    "        print('Acesso autorizado e dados extraídos!')\n",
    "    else:\n",
    "        print('Acesso não autorizado!')\n",
    "        \n",
    "    return access_token, token_type, token_expires"
   ]
  },
  {
   "cell_type": "markdown",
   "id": "83c6c657-c4ae-4e16-b222-c16358c2768d",
   "metadata": {},
   "source": [
    "<a name=\"2.2\"></a>\n",
    "### Playlist Extraction (Extração da Playlist)\n",
    "**[EN-US]**\n",
    "\n",
    "Get full details of the items of a playlist owned by a Spotify user.\n",
    "\n",
    "**[PT-BR]**\n",
    "\n",
    "Obtenha detalhes completos dos itens de uma playlist de um usuário do Spotify."
   ]
  },
  {
   "cell_type": "code",
   "execution_count": 287,
   "id": "40779849-d284-4d9e-8227-3397a86675d4",
   "metadata": {
    "tags": []
   },
   "outputs": [],
   "source": [
    "def get_playlist(playlist, token_type, access_token, offset=0, limit=100):\n",
    "    \"\"\"\n",
    "    [EN-US]\n",
    "    Get full details of the items of a playlist owned by a Spotify user.\n",
    "    \n",
    "    [PT-BR]\n",
    "    Obtenha detalhes completos dos itens de uma playlist de propriedade de um usuário do Spotify.\n",
    "    \n",
    "    Arguments:\n",
    "        playlist -- The Spotify URL of the playlist\n",
    "                    (O URL do Spotify da playlist).\n",
    "        token_type -- How the access token may be used: always \"Bearer\"\n",
    "                      (Como o token de acesso pode ser utilizado: sempre “Bearer”).\n",
    "        access_token -- An access token that can be provided in subsequent calls, for example to Spotify Web API services\n",
    "                        (Um token de acesso que pode ser fornecido em chamadas subsequentes, por exemplo, para serviços Spotify Web API).\n",
    "        offset -- The index of the first item to return. Default: 0 (the first item). Use with limit to get the next set of items\n",
    "                  (O índice do primeiro item a ser retornado. Padrão: 0 (o primeiro item). Use com limit para obter o próximo conjunto de itens).\n",
    "        limit -- The maximum number of items to return. Default: 100. Minimum: 1. Maximum: 100\n",
    "                 (O número máximo de itens a serem retornados. Padrão: 100. Mínimo: 1. Máximo: 100).\n",
    "    \n",
    "    Return:\n",
    "        response.json() -- Pages of tracks in JSON (Páginas de tracks em JSON).\n",
    "    \"\"\"\n",
    "    # Turning the Spotify playlist URL into just the Playlist ID to send the get request (Transformando o Spotify URL da playlist apenas no Playlist ID para enviar a requisição get)\n",
    "    playlist_id = playlist.split('/')[-1].split('?')[0]\n",
    "    # Setting options for the request (Definindo as opções para a requisição)\n",
    "    endpoint = f'https://api.spotify.com/v1/playlists/{playlist_id}/tracks?offset={str(offset)}&limit={str(limit)}'\n",
    "    headers={\n",
    "        'Authorization': token_type + ' ' + access_token\n",
    "    }\n",
    "\n",
    "    # Send a get request (Enviando a requisição get)\n",
    "    response = get(url=endpoint, headers=headers)\n",
    "    # If the request status code is not 200 (Caso o status code da requisição não seja 200)\n",
    "    if response.status_code != 200:\n",
    "        print('Error! Playlist data not extracted.')\n",
    "    \n",
    "    return response.json()"
   ]
  },
  {
   "cell_type": "markdown",
   "id": "8e43662f-f7e3-4eff-ad71-4d827f1f1864",
   "metadata": {},
   "source": [
    "<a name=\"2.3\"></a>\n",
    "### Track Features Extraction (Extração das Features da Track)\n",
    "<img align='center' src='../figures/track-features.png' style='width:800px;'>\n",
    "\n",
    "**[EN-US]**\n",
    "\n",
    "Get audio feature information for a single track identified by its unique Spotify ID.\n",
    "\n",
    "**Note:** Spotify has removed the feature to extract the features of each track from the API.\n",
    "\n",
    "**[PT-BR]**\n",
    "\n",
    "Obtenha informações sobre features de áudio de uma única faixa identificada por seu ID exclusivo do Spotify.\n",
    "\n",
    "**Nota:** o Spotify removeu o feature para extrair as features de cada track da API."
   ]
  },
  {
   "cell_type": "code",
   "execution_count": 289,
   "id": "437d920f-fcfb-4192-b692-6e6ed5378549",
   "metadata": {
    "tags": []
   },
   "outputs": [],
   "source": [
    "def track_features(track_id, token_type, access_token):\n",
    "    \"\"\"\n",
    "    Deprecated\n",
    "    [EN-US]\n",
    "    Get audio feature information for a single track identified by its unique Spotify ID.\n",
    "    \n",
    "    [PT-BR]\n",
    "    Obtenha informações sobre features de áudio de uma única faixa identificada por seu ID exclusivo do Spotify.\n",
    "    \n",
    "    Arguments:\n",
    "        track_id -- The Spotify ID for the track (O ID do Spotify para a track).\n",
    "        token_type -- How the access token may be used: always \"Bearer\"\n",
    "                      (Como o token de acesso pode ser utilizado: sempre “Bearer”).\n",
    "        access_token -- An access token that can be provided in subsequent calls, for example to Spotify Web API services\n",
    "                        (Um token de acesso que pode ser fornecido em chamadas subsequentes, por exemplo, para serviços Spotify Web API).\n",
    "    \n",
    "    Return:\n",
    "        response.json() -- Audio features for one track in JSON\n",
    "                           (Features de áudio para uma track em JSON).\n",
    "    \"\"\"\n",
    "    # Setting options for the request (Definindo as opções para a requisição)\n",
    "    endpoint = f'https://api.spotify.com/v1/audio-features/{track_id}'\n",
    "    headers={\n",
    "        'Authorization': token_type + ' ' + access_token\n",
    "    }\n",
    "    \n",
    "    # Send a get request (Enviando a requisição get)\n",
    "    response = get(url=endpoint, headers=headers)\n",
    "    # If the request status code is not 200 (Caso o status code da requisição não seja 200)\n",
    "    if response.status_code != 200:\n",
    "        print('Error! Track data not extracted.')\n",
    "    \n",
    "    return response.json()    "
   ]
  },
  {
   "cell_type": "markdown",
   "id": "9cbada70-96ea-4739-a36d-fc5c50f1f9ab",
   "metadata": {},
   "source": [
    "<a name=\"2.4\"></a>\n",
    "### Playlist to DataFrame (Playlist para DataFrame)\n",
    "**[EN-US]**\n",
    "\n",
    "Input's a playlist URL and returns a pandas DataFrame.\n",
    "\n",
    "**[PT-BR]**\n",
    "\n",
    "A entrada é um URL de uma playlist e retorna um DataFrame do pandas."
   ]
  },
  {
   "cell_type": "code",
   "execution_count": 291,
   "id": "f2614cbc-cb5c-47ac-bd18-5feff38e969b",
   "metadata": {
    "tags": []
   },
   "outputs": [],
   "source": [
    "def playlist_to_dataframe(playlist_endpoint, token_type, access_token, offset=0, limit=100, label=None):\n",
    "    \"\"\"\n",
    "    [EN-US]\n",
    "    Input's a playlist URL and returns a pandas DataFrame.\n",
    "    \n",
    "    [PT-BR]\n",
    "    A entrada é um URL de uma playlist e retorna um DataFrame do pandas.\n",
    "    \n",
    "    Arguments:\n",
    "        playlist_endpoint -- The Spotify URL of the playlist (O URL do Spotify da playlist).\n",
    "        token_type -- How the access token may be used: always \"Bearer\"\n",
    "                      (Como o token de acesso pode ser utilizado: sempre “Bearer”).\n",
    "        access_token -- An access token that can be provided in subsequent calls, for example to Spotify Web API services\n",
    "                        (Um token de acesso que pode ser fornecido em chamadas subsequentes, por exemplo, para serviços Spotify Web API).\n",
    "        offset -- The index of the first item to return. Default: 0 (the first item). Use with limit to get the next set of items\n",
    "                  (O índice do primeiro item a ser retornado. Padrão: 0 (o primeiro item). Use com limit para obter o próximo conjunto de itens).\n",
    "        limit -- The maximum number of items to return. Default: 100. Minimum: 1. Maximum: 100\n",
    "                 (O número máximo de itens a serem retornados. Padrão: 100. Mínimo: 1. Máximo: 100).\n",
    "        label -- The label that the playlist will be classified by. Default: None. Label 1 for good playlist and 0 for bad playlist\n",
    "                 (O label que a playlist será classificada. Padrão: None. Label 1 para playlist boa e 0 para playlist ruim).\n",
    "        \n",
    "    Return:\n",
    "        df -- Pandas DataFrame with all tracks and the features of each track in the playlist\n",
    "              (DataFrame pandas com todas as tracks e as features de cada track da playlist).\n",
    "    \"\"\"\n",
    "    # Final list that will be transformed into DataFrame (Lista final que será transformada em DataFrame)\n",
    "    examples = []\n",
    "    # Tracks in JSON (Tracks em JSON)\n",
    "    playlist = get_playlist(playlist=playlist_endpoint, token_type=token_type, access_token=access_token, offset=offset, limit=limit)\n",
    "    \n",
    "    # For loop through all playlist pages (Percorrendo todas as páginas da playlist)\n",
    "    for page in range(offset, playlist['total'] + 1, limit):\n",
    "        # Example size on page (Tamanho de exemplo na página)\n",
    "        m = len(playlist['items'])\n",
    "        # For loop through each example and adding the data to the final list (Percorrendo cada exemplo e adicionando os dados à lista final)\n",
    "        for i in range(m):\n",
    "            # Accessing each track (Acessando cada track)\n",
    "            track = playlist['items'][i]['track']\n",
    "            # Track features in JSON (Features da track em JSON)\n",
    "            track_feature = track_features(track['id'], token_type, access_token) # Deprecated\n",
    "\n",
    "\n",
    "            # Intermediate list for append each m example (Lista intermediária para adicionar cada exemplo m)\n",
    "            example = [\n",
    "                track['id'],\n",
    "                #track['uri'],\n",
    "                track['name'],\n",
    "                track['artists'][0]['name'],\n",
    "                track['duration_ms'],\n",
    "                track['popularity'],\n",
    "                track_feature['danceability'],\n",
    "                track_feature['energy'],\n",
    "                track_feature['key'],\n",
    "                track_feature['loudness'],\n",
    "                track_feature['mode'],\n",
    "                track_feature['speechiness'],\n",
    "                track_feature['acousticness'],\n",
    "                track_feature['instrumentalness'],\n",
    "                track_feature['liveness'],\n",
    "                track_feature['valence'],\n",
    "                track_feature['tempo']\n",
    "            ]\n",
    "\n",
    "            # Adding to final list (Adicionando à lista final)\n",
    "            examples.append(example)\n",
    "        # If the page has more than 100 examples, you will read the next page\n",
    "        # (Se a página tiver mais de 100 exemplos, lerá a próxima página)\n",
    "        if m >= 100:\n",
    "            # JSON tracks of the next offset (Tracks em JSON do próximo offset)\n",
    "            playlist = get_playlist(playlist=playlist_endpoint, token_type=token_type, access_token=access_token, offset=page + limit, limit=limit)\n",
    "    \n",
    "    # DataFrame's features names (Nomes das features do DataFrame)\n",
    "    features = ['id', 'name', 'artists', 'duration_ms', 'popularity', 'danceability', 'energy', 'key', 'loudness', 'mode', 'speechiness',\n",
    "               'acousticness', 'instrumentalness', 'liveness', 'valence', 'tempo']\n",
    "    # Transforming into DataFrame (Transformando em DataFrame)\n",
    "    df = pd.DataFrame(examples, columns=features)\n",
    "    \n",
    "    # Setting the labels (Definindo os labels)\n",
    "    if label == 0:\n",
    "        df['y'] = 0\n",
    "    elif label == 1:\n",
    "        df['y'] = 1\n",
    "    \n",
    "    return df"
   ]
  },
  {
   "cell_type": "markdown",
   "id": "f06545c0-5251-45a1-9a17-0477b8965c26",
   "metadata": {
    "tags": []
   },
   "source": [
    "<a name=\"3\"></a>\n",
    "## Environment Variables (Variáveis de Ambiente)\n",
    "**[EN-US]**\n",
    "\n",
    "Setting the environment variables:\n",
    "* `CLIENT_ID_SPOTIFY`: the client ID generated after registering your application.\n",
    "* `CLIENT_SECRET_SPOTIFY`: the client secret generated after registering your application.\n",
    "\n",
    "**[PT-BR]**\n",
    "\n",
    "Definindo as variáveis de ambiente:\n",
    "* `CLIENT_ID_SPOTIFY`: o cliente ID gerado após registrar seu aplicativo.\n",
    "* `CLIENT_SECRET_SPOTIFY`: o client secret gerado após o registro do seu aplicativo."
   ]
  },
  {
   "cell_type": "code",
   "execution_count": 281,
   "id": "53601923-9cd9-465d-b63a-340d0e68b157",
   "metadata": {
    "tags": []
   },
   "outputs": [],
   "source": [
    "CLIENT_ID = os.environ['CLIENT_ID_SPOTIFY']\n",
    "CLIENT_SECRET = os.environ['CLIENT_SECRET_SPOTIFY']"
   ]
  },
  {
   "cell_type": "markdown",
   "id": "38b6537d-118a-4074-9444-f8ea78edfdff",
   "metadata": {
    "tags": []
   },
   "source": [
    "<a name=\"4\"></a>\n",
    "## Playlist Data Extraction (Extração dos Dados da Playlist)\n",
    "**[EN-US]**\n",
    "\n",
    "Requesting Spotify authorization, extracting data from Spotify tracks, transforming this data and loading the data to disk.\n",
    "\n",
    "**[PT-BR]**\n",
    "\n",
    "Requisitando a autorização do Spotify, extraindo os dados das tracks do spotify, transformando esses dados e carregamento os dados no disco."
   ]
  },
  {
   "cell_type": "markdown",
   "id": "a59c13b6-9642-4f1b-85de-ddd4f7cee024",
   "metadata": {},
   "source": [
    "<a name=\"4.1\"></a>\n",
    "### Request Authorization (Requisitando a Autorização)\n",
    "Requesting Spotify Authorization (Requisitando a autorização do Spotify)."
   ]
  },
  {
   "cell_type": "code",
   "execution_count": 324,
   "id": "66bf0b0f-be68-4fb6-bc65-59d548fd48fa",
   "metadata": {
    "tags": []
   },
   "outputs": [
    {
     "name": "stdout",
     "output_type": "stream",
     "text": [
      "Acesso autorizado e dados extraídos!\n"
     ]
    }
   ],
   "source": [
    "access_token, token_type, token_expires = request_auth(client_id=CLIENT_ID, client_secret=CLIENT_SECRET)"
   ]
  },
  {
   "cell_type": "code",
   "execution_count": 325,
   "id": "19dead1c-bdc0-4739-bb93-67637a1ef328",
   "metadata": {},
   "outputs": [
    {
     "name": "stdout",
     "output_type": "stream",
     "text": [
      "The token expires in: 3600s\n"
     ]
    }
   ],
   "source": [
    "print(f'The token expires in: {token_expires}s')"
   ]
  },
  {
   "cell_type": "markdown",
   "id": "ffb7b547-c9c9-421f-bff2-eaeaec48873b",
   "metadata": {},
   "source": [
    "<a name=\"4.2\"></a>\n",
    "### Playlists Definition (Definição das Playlists)\n",
    "Setting the playlists to be extracted (Definindo as playlists que serão extraidas)."
   ]
  },
  {
   "cell_type": "code",
   "execution_count": 37,
   "id": "bca5e446-1e1c-4a6c-9198-0d974c26328b",
   "metadata": {
    "tags": []
   },
   "outputs": [],
   "source": [
    "good_songs = 'https://open.spotify.com/playlist/6DI0NiX9bE3fIF6cEoI2zL?si=ef8a610d53f64627'\n",
    "good_songs_2 = 'https://open.spotify.com/playlist/08bsg8CsImua5vzGMoiGLT?si=7ea323f1c8404b0b'\n",
    "bad_songs = 'https://open.spotify.com/playlist/6IBody2iNg5TgmAeYiHYpW?si=xsEvNjbbQYqt0rs9wP3yOg'"
   ]
  },
  {
   "cell_type": "markdown",
   "id": "0c1778a8-2095-40d7-80fb-7cac29807b1f",
   "metadata": {},
   "source": [
    "<a name=\"4.3\"></a>\n",
    "### Data ETL. Extraction, Transform and Load (Extração, Transformação e Carregamento dos Dados)\n",
    "Extracting the data from playlists and projecting the first 5 examples from the `df_good` playlist dataset (Extraindo os dados das plalists e projetando os 5 primeiros exemplos do dataset da playlist `df_good`)."
   ]
  },
  {
   "cell_type": "code",
   "execution_count": null,
   "id": "a7562617-0b2b-4e22-b583-c552b54be76d",
   "metadata": {
    "tags": []
   },
   "outputs": [],
   "source": [
    "df_good = playlist_to_dataframe(good_songs, token_type, access_token, label=1)\n",
    "df_good_2 = playlist_to_dataframe(good_songs_2, token_type, access_token, label=1)\n",
    "df_bad = playlist_to_dataframe(bad_songs, token_type, access_token, label=0).drop(columns=['name'])\n",
    "df_good.head()"
   ]
  },
  {
   "cell_type": "markdown",
   "id": "92aa3c28-7ec2-4049-b333-f9ccf7f83a4a",
   "metadata": {},
   "source": [
    "Creating the `duration_min` feature (Criando a feature `duration_min`)."
   ]
  },
  {
   "cell_type": "code",
   "execution_count": null,
   "id": "1c61a832-2115-4e16-b7ad-15d64402419c",
   "metadata": {
    "tags": []
   },
   "outputs": [],
   "source": [
    "df_good['duration_min'] = df_good['duration_ms'] / 60000\n",
    "df_good_2['duration_min'] = df_good_2['duration_ms'] / 60000\n",
    "df_bad['duration_min'] = df_bad['duration_ms'] / 60000\n",
    "df_good.head()"
   ]
  },
  {
   "cell_type": "markdown",
   "id": "3e4cb2d7-1352-4846-9d56-c345d3034e5d",
   "metadata": {},
   "source": [
    "Loading each dataset into the `./data/raw/` directory (Carregando cada dataset no diretório `./data/raw/`)."
   ]
  },
  {
   "cell_type": "code",
   "execution_count": null,
   "id": "5d722933-d22e-4c7c-bf1c-10836b8f2037",
   "metadata": {
    "tags": []
   },
   "outputs": [],
   "source": [
    "df_good.to_csv('../data/raw/df_good.csv', index=False)\n",
    "df_good_2.to_csv('../data/raw/df_good_2.csv', index=False)\n",
    "df_bad.to_csv('../data/raw/df_bad.csv', index=False)"
   ]
  }
 ],
 "metadata": {
  "kernelspec": {
   "display_name": "Python 3 (ipykernel)",
   "language": "python",
   "name": "python3"
  },
  "language_info": {
   "codemirror_mode": {
    "name": "ipython",
    "version": 3
   },
   "file_extension": ".py",
   "mimetype": "text/x-python",
   "name": "python",
   "nbconvert_exporter": "python",
   "pygments_lexer": "ipython3",
   "version": "3.11.5"
  }
 },
 "nbformat": 4,
 "nbformat_minor": 5
}
